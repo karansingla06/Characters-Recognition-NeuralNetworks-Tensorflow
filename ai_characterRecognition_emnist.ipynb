{
 "cells": [
  {
   "cell_type": "code",
   "execution_count": 1,
   "metadata": {},
   "outputs": [],
   "source": [
    "import tensorflow as tf # Import tensorflow library\n",
    "import matplotlib.pyplot as plt # Import matplotlib library\n",
    "#import tensorflow_datasets as tfds\n",
    "import numpy as np\n",
    "from emnist import extract_training_samples, extract_test_samples"
   ]
  },
  {
   "cell_type": "code",
   "execution_count": 5,
   "metadata": {},
   "outputs": [],
   "source": [
    "characters = ['0','1','2','3','4','5','6','7','8','9','A','B','C','D','E','F','G','H','I','J','K','L','M'\n",
    "              ,'N','O','P','Q','R','S','T','U','V','W','X','Y','Z','a','b','c','d','e','f','g','h','i','j'\n",
    "              ,'k','l','m','n','o','p','q','r','s','t','u','v','w','x','y','z']"
   ]
  },
  {
   "cell_type": "code",
   "execution_count": 6,
   "metadata": {},
   "outputs": [
    {
     "data": {
      "text/plain": [
       "(697932, 28, 28)"
      ]
     },
     "execution_count": 6,
     "metadata": {},
     "output_type": "execute_result"
    }
   ],
   "source": [
    "x_train, y_train = extract_training_samples('byclass')\n",
    "x_test, y_test =extract_test_samples('byclass')\n",
    "x_train.shape"
   ]
  },
  {
   "cell_type": "code",
   "execution_count": 4,
   "metadata": {},
   "outputs": [
    {
     "data": {
      "image/png": "[encoded data removed]",
      "text/plain": [
       "<Figure size 432x288 with 1 Axes>"
      ]
     },
     "metadata": {
      "needs_background": "light"
     },
     "output_type": "display_data"
    }
   ],
   "source": [
    "plt.imshow(x_train[112], cmap=\"gray\") # Import the image\n",
    "plt.show() # Plot the image"
   ]
  },
  {
   "cell_type": "code",
   "execution_count": 5,
   "metadata": {},
   "outputs": [],
   "source": [
    "# Normalize the train dataset\n",
    "x_train = tf.keras.utils.normalize(x_train, axis=1)\n",
    "# Normalize the test dataset\n",
    "x_test = tf.keras.utils.normalize(x_test, axis=1)"
   ]
  },
  {
   "cell_type": "code",
   "execution_count": 6,
   "metadata": {},
   "outputs": [],
   "source": [
    "#Build the model object\n",
    "model = tf.keras.models.Sequential()\n",
    "# Add the Flatten Layer\n",
    "model.add(tf.keras.layers.Flatten())\n",
    "# Build the input and the hidden layers\n",
    "model.add(tf.keras.layers.Dense(256, activation=tf.nn.relu))\n",
    "model.add(tf.keras.layers.Dense(128, activation=tf.nn.relu))\n",
    "# Build the output layer\n",
    "model.add(tf.keras.layers.Dense(62, activation=tf.nn.softmax))"
   ]
  },
  {
   "cell_type": "code",
   "execution_count": 7,
   "metadata": {},
   "outputs": [],
   "source": [
    "# Compile the model\n",
    "model.compile(optimizer=\"adam\", loss=\"sparse_categorical_crossentropy\", metrics=[\"accuracy\"])\n"
   ]
  },
  {
   "cell_type": "code",
   "execution_count": 8,
   "metadata": {},
   "outputs": [
    {
     "name": "stdout",
     "output_type": "stream",
     "text": [
      "Train on 697932 samples\n",
      "Epoch 1/20\n",
      "697932/697932 [==============================] - 57s 82us/sample - loss: 0.6283 - accuracy: 0.7949\n",
      "Epoch 2/20\n",
      "697932/697932 [==============================] - 56s 80us/sample - loss: 0.4846 - accuracy: 0.8317\n",
      "Epoch 3/20\n",
      "697932/697932 [==============================] - 56s 80us/sample - loss: 0.4573 - accuracy: 0.8392\n",
      "Epoch 4/20\n",
      "697932/697932 [==============================] - 56s 80us/sample - loss: 0.4424 - accuracy: 0.8430\n",
      "Epoch 5/20\n",
      "697932/697932 [==============================] - 56s 80us/sample - loss: 0.4317 - accuracy: 0.8460\n",
      "Epoch 6/20\n",
      "697932/697932 [==============================] - 56s 80us/sample - loss: 0.4248 - accuracy: 0.8476\n",
      "Epoch 7/20\n",
      "697932/697932 [==============================] - 56s 80us/sample - loss: 0.4188 - accuracy: 0.8487\n",
      "Epoch 8/20\n",
      "697932/697932 [==============================] - 56s 80us/sample - loss: 0.4149 - accuracy: 0.8505\n",
      "Epoch 9/20\n",
      "697932/697932 [==============================] - 56s 80us/sample - loss: 0.4121 - accuracy: 0.8515\n",
      "Epoch 10/20\n",
      "697932/697932 [==============================] - 56s 80us/sample - loss: 0.4084 - accuracy: 0.8520\n",
      "Epoch 11/20\n",
      "697932/697932 [==============================] - 56s 80us/sample - loss: 0.4066 - accuracy: 0.8526\n",
      "Epoch 12/20\n",
      "697932/697932 [==============================] - 56s 80us/sample - loss: 0.4047 - accuracy: 0.8535\n",
      "Epoch 13/20\n",
      "697932/697932 [==============================] - 56s 80us/sample - loss: 0.4032 - accuracy: 0.8540\n",
      "Epoch 14/20\n",
      "697932/697932 [==============================] - 56s 81us/sample - loss: 0.4020 - accuracy: 0.8543\n",
      "Epoch 15/20\n",
      "697932/697932 [==============================] - 57s 82us/sample - loss: 0.4005 - accuracy: 0.8544\n",
      "Epoch 16/20\n",
      "697932/697932 [==============================] - 56s 80us/sample - loss: 0.4000 - accuracy: 0.8548\n",
      "Epoch 17/20\n",
      "697932/697932 [==============================] - 56s 80us/sample - loss: 0.3994 - accuracy: 0.8552\n",
      "Epoch 18/20\n",
      "697932/697932 [==============================] - 55s 79us/sample - loss: 0.3987 - accuracy: 0.8557\n",
      "Epoch 19/20\n",
      "697932/697932 [==============================] - 55s 79us/sample - loss: 0.3975 - accuracy: 0.8558\n",
      "Epoch 20/20\n",
      "697932/697932 [==============================] - 55s 79us/sample - loss: 0.3976 - accuracy: 0.8557\n"
     ]
    },
    {
     "data": {
      "text/plain": [
       "<tensorflow.python.keras.callbacks.History at 0x7fd9340661d0>"
      ]
     },
     "execution_count": 8,
     "metadata": {},
     "output_type": "execute_result"
    }
   ],
   "source": [
    "model.fit(x=x_train, y=y_train, epochs=20) # Start training process"
   ]
  },
  {
   "cell_type": "code",
   "execution_count": 9,
   "metadata": {},
   "outputs": [
    {
     "name": "stderr",
     "output_type": "stream",
     "text": [
      "IOPub data rate exceeded.\n",
      "The notebook server will temporarily stop sending output\n",
      "to the client in order to avoid crashing it.\n",
      "To change this limit, set the config variable\n",
      "`--NotebookApp.iopub_data_rate_limit`.\n",
      "\n",
      "Current values:\n",
      "NotebookApp.iopub_data_rate_limit=1000000.0 (bytes/sec)\n",
      "NotebookApp.rate_limit_window=3.0 (secs)\n",
      "\n"
     ]
    },
    {
     "name": "stdout",
     "output_type": "stream",
     "text": [
      "\n",
      "Test accuracy: 0.834951\n"
     ]
    }
   ],
   "source": [
    "# Evaluate the model performance\n",
    "test_loss, test_acc = model.evaluate(x=x_test, y=y_test)\n",
    "\n",
    "# Print out the model accuracy \n",
    "print('\\nTest accuracy:', test_acc)"
   ]
  },
  {
   "cell_type": "code",
   "execution_count": 10,
   "metadata": {},
   "outputs": [],
   "source": [
    "predictions = model.predict([x_test])\n",
    "# Make prediction"
   ]
  },
  {
   "cell_type": "code",
   "execution_count": 11,
   "metadata": {},
   "outputs": [
    {
     "name": "stdout",
     "output_type": "stream",
     "text": [
      "e\n"
     ]
    }
   ],
   "source": [
    "print(characters[np.argmax(predictions[13421])])# Print out the number"
   ]
  },
  {
   "cell_type": "code",
   "execution_count": 12,
   "metadata": {},
   "outputs": [
    {
     "data": {
      "image/png": "[encoded data removed]",
      "text/plain": [
       "<Figure size 432x288 with 1 Axes>"
      ]
     },
     "metadata": {
      "needs_background": "light"
     },
     "output_type": "display_data"
    }
   ],
   "source": [
    "plt.imshow(x_test[13421], cmap=\"gray\") # Import the image\n",
    "plt.show() # Show the image"
   ]
  },
  {
   "cell_type": "code",
   "execution_count": 13,
   "metadata": {},
   "outputs": [],
   "source": [
    "# Saving the model\n",
    "from tensorflow.keras.models import model_from_json\n",
    "\n",
    "model_json = model.to_json()\n",
    "with open(\"model.json\", \"w\") as json_file:\n",
    "    json_file.write(model_json)\n",
    "#saves the model info as json file\n",
    "    \n",
    "model.save_weights(\"model.h5\")"
   ]
  },
  {
   "cell_type": "code",
   "execution_count": 1,
   "metadata": {},
   "outputs": [
    {
     "name": "stdout",
     "output_type": "stream",
     "text": [
      "Model successfully loaded\n"
     ]
    }
   ],
   "source": [
    "from tensorflow.keras.models import load_model\n",
    "from tensorflow.keras.models import model_from_json\n",
    "\n",
    "json_file = open('model.json', 'r')\n",
    "loaded_model_json = json_file.read()\n",
    "json_file.close()\n",
    "loaded_model = model_from_json(loaded_model_json)\n",
    "\n",
    "\n",
    "loaded_model.load_weights('model.h5')\n",
    "\n",
    "model = loaded_model\n",
    "\n",
    "\n",
    "print('Model successfully loaded')"
   ]
  },
  {
   "cell_type": "code",
   "execution_count": 22,
   "metadata": {},
   "outputs": [
    {
     "data": {
      "text/plain": [
       "<matplotlib.image.AxesImage at 0x7fdd100de160>"
      ]
     },
     "execution_count": 22,
     "metadata": {},
     "output_type": "execute_result"
    },
    {
     "data": {
      "image/png": "[encoded data removed]",
      "text/plain": [
       "<Figure size 432x288 with 1 Axes>"
      ]
     },
     "metadata": {
      "needs_background": "light"
     },
     "output_type": "display_data"
    }
   ],
   "source": [
    "import cv2\n",
    "import numpy as np\n",
    "from matplotlib import pyplot as plt\n",
    "%matplotlib inline\n",
    "\n",
    "\n",
    "#enter input image here\n",
    "image = cv2.imread('test2.png')\n",
    "height, width, depth = image.shape\n",
    "\n",
    "#resizing the image to find spaces better\n",
    "image = cv2.resize(image, dsize=(width*5,height*4), interpolation=cv2.INTER_CUBIC)\n",
    "#grayscale\n",
    "gray = cv2.cvtColor(image,cv2.COLOR_BGR2GRAY)\n",
    "\n",
    "#binary\n",
    "ret,thresh = cv2.threshold(gray,127,255,cv2.THRESH_BINARY_INV)\n",
    "\n",
    "#dilation\n",
    "kernel = np.ones((5,5), np.uint8)\n",
    "img_dilation = cv2.dilate(thresh, kernel, iterations=1)\n",
    "\n",
    "#adding GaussianBlur\n",
    "gsblur=cv2.GaussianBlur(img_dilation,(5,5),0)\n",
    "\n",
    "#find contours\n",
    "ctrs, hier = cv2.findContours(gsblur.copy(), cv2.RETR_EXTERNAL, cv2.CHAIN_APPROX_SIMPLE)\n",
    "\n",
    "m = list()\n",
    "#sort contours\n",
    "sorted_ctrs = sorted(ctrs, key=lambda ctr: cv2.boundingRect(ctr)[0])\n",
    "pchl = list()\n",
    "dp = image.copy()\n",
    "for i, ctr in enumerate(sorted_ctrs):\n",
    "    # Get bounding box\n",
    "    x, y, w, h = cv2.boundingRect(ctr)\n",
    "    cv2.rectangle(dp,(x-5,y-5),( x + w + 10, y + h + 10 ),(80,0,255),11)\n",
    "    \n",
    "plt.imshow(dp)"
   ]
  },
  {
   "cell_type": "code",
   "execution_count": 23,
   "metadata": {},
   "outputs": [
    {
     "data": {
      "image/png": "[encoded data removed]",
      "text/plain": [
       "<Figure size 72x432 with 6 Axes>"
      ]
     },
     "metadata": {
      "needs_background": "light"
     },
     "output_type": "display_data"
    },
    {
     "name": "stdout",
     "output_type": "stream",
     "text": [
      "Predicted String: N3CM0P\n"
     ]
    }
   ],
   "source": [
    "for i, ctr in enumerate(sorted_ctrs):\n",
    "    # Get bounding box\n",
    "    x, y, w, h = cv2.boundingRect(ctr)\n",
    "    # Getting ROI\n",
    "    roi = image[y-10:y+h+10, x-10:x+w+10]\n",
    "    roi = cv2.resize(roi, dsize=(28,28), interpolation=cv2.INTER_CUBIC)\n",
    "    roi = cv2.cvtColor(roi,cv2.COLOR_BGR2GRAY)\n",
    "    \n",
    "    roi = np.array(roi)\n",
    "    t = np.copy(roi)\n",
    "    t = t / 255.0\n",
    "    t = 1-t\n",
    "    t = t.reshape(1,784)\n",
    "    m.append(roi)\n",
    "    pred = model.predict_classes(t)\n",
    "    pchl.append(pred)\n",
    "\n",
    "    \n",
    "\n",
    "pcw = list()\n",
    "interp = 'bilinear'\n",
    "fig, axs = plt.subplots(nrows=len(sorted_ctrs), sharex=True, figsize=(1,len(sorted_ctrs)))\n",
    "for i in range(len(pchl)):\n",
    "    #print (pchl[i][0])\n",
    "    pcw.append(characters[pchl[i][0]])\n",
    "    axs[i].set_title('   ---> predicted letter: '+characters[pchl[i][0]], x=2.5,y=0.24)\n",
    "    axs[i].imshow(m[i], interpolation=interp)\n",
    "\n",
    "plt.show()\n",
    "\n",
    "\n",
    "predstring = ''.join(pcw)\n",
    "print('Predicted String: '+predstring)"
   ]
  },
  {
   "cell_type": "code",
   "execution_count": null,
   "metadata": {},
   "outputs": [],
   "source": []
  }
 ],
 "metadata": {
  "kernelspec": {
   "display_name": "Python 3",
   "language": "python",
   "name": "python3"
  },
  "language_info": {
   "codemirror_mode": {
    "name": "ipython",
    "version": 3
   },
   "file_extension": ".py",
   "mimetype": "text/x-python",
   "name": "python",
   "nbconvert_exporter": "python",
   "pygments_lexer": "ipython3",
   "version": "3.6.8"
  }
 },
 "nbformat": 4,
 "nbformat_minor": 2
}
